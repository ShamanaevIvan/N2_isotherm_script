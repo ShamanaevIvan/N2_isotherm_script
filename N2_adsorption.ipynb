{
 "cells": [
  {
   "cell_type": "code",
   "execution_count": 2,
   "metadata": {},
   "outputs": [],
   "source": [
    "from N2_adsorption_isotherm import Isotherm"
   ]
  },
  {
   "cell_type": "code",
   "execution_count": 3,
   "metadata": {},
   "outputs": [],
   "source": [
    "a = Isotherm('DATA73_ИВ90.084')"
   ]
  },
  {
   "cell_type": "code",
   "execution_count": 4,
   "metadata": {},
   "outputs": [
    {
     "output_type": "stream",
     "name": "stdout",
     "text": [
      "sample directory\t DATA73\nsample number\t /84\nstart_time\t 11:10:08\nstart_date\t 06/20/19\nsample id\t UB 90 Ni2P/gamma-Al2O3 deg.150C Shaman.\ncompl time\t 21:43:37\ncompl date\t 06/20/19\nsubmitter\t \nreprt time\t 10:13:35\nreprt date\t 06/21/19\noperator\t \nsample wt\t 0.2338 g\nstation number\t 4\nequil interal\t 25 sec\nfree space\t 55.5923 cc\nbet surface area\t 142.8044 +\\- 0.3090\nslope\t 0.030182 +\\- 0.000065\ny-intercept\t 0.000302 +\\- 0.000008\nc\t 101.063850\nvm\t 32.804485 cc/g STP\ncorrelation coefficient 9.99993E-01\nmicropore volume\t -0.003841 cc/g\nmicropore area\t -11.4429 sq. m/g\nexternal surface area\t 154.2474 sq. m/g\nmicropore slope\t 9.972030 +\\- 0.042184\nmicropore y-intercept\t -2.483037 +\\- 0.177081\nmicropore correlation coefficient 9.99973E-01\nmicropore postscript THICKNESS VALUES USED IN THE LEAST-SQUARES ANALYSIS WERE BETWEEN   3.500 AND   5.000 A .\nmicropore equation t = [   16.7853/(    0.0659 - log(P/Po))]**0.465\n"
     ]
    }
   ],
   "source": [
    "a.print_info()"
   ]
  },
  {
   "cell_type": "code",
   "execution_count": 9,
   "metadata": {},
   "outputs": [
    {
     "name": "stdout",
     "output_type": "stream",
     "text": [
      "<class 'pandas.core.frame.DataFrame'>\n",
      "RangeIndex: 15 entries, 0 to 14\n",
      "Data columns (total 7 columns):\n",
      " #   Column                           Non-Null Count  Dtype \n",
      "---  ------                           --------------  ----- \n",
      " 0   PORE DIAMETER RANGE (A) high     15 non-null     object\n",
      " 1   PORE DIAMETER RANGE (A) low      15 non-null     object\n",
      " 2   AVERAGE DIAMETER (A)             15 non-null     object\n",
      " 3   INCREMENTAL PORE VOLUME (cc/g)   15 non-null     object\n",
      " 4   CUMULATIVE PORE VOLUME (cc/g)    15 non-null     object\n",
      " 5   INCREMENTAL PORE AREA (sq. m/g)  15 non-null     object\n",
      " 6   CUMULATIVE PORE AREA (sq. m/g)   15 non-null     object\n",
      "dtypes: object(7)\n",
      "memory usage: 968.0+ bytes\n"
     ]
    }
   ],
   "source": [
    "a.df_bjh_desorption.info()"
   ]
  },
  {
   "cell_type": "code",
   "execution_count": 5,
   "metadata": {},
   "outputs": [
    {
     "data": {
      "image/png": "[encoded data removed]",
      "text/plain": [
       "<Figure size 432x288 with 1 Axes>"
      ]
     },
     "metadata": {
      "needs_background": "light"
     },
     "output_type": "display_data"
    }
   ],
   "source": [
    "a.bjh_desorption_plot()"
   ]
  }
 ],
 "metadata": {
  "kernelspec": {
   "display_name": "Python 3",
   "language": "python",
   "name": "python3"
  },
  "language_info": {
   "codemirror_mode": {
    "name": "ipython",
    "version": 3
   },
   "file_extension": ".py",
   "mimetype": "text/x-python",
   "name": "python",
   "nbconvert_exporter": "python",
   "pygments_lexer": "ipython3",
   "version": "3.8.3-final"
  }
 },
 "nbformat": 4,
 "nbformat_minor": 4
}